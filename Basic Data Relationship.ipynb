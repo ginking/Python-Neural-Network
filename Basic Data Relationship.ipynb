{
 "metadata": {
  "name": "Basic Data Relationship"
 },
 "nbformat": 3,
 "nbformat_minor": 0,
 "worksheets": [
  {
   "cells": [
    {
     "cell_type": "heading",
     "level": 1,
     "metadata": {},
     "source": [
      "Basic Example of using Data to Learn Relationship"
     ]
    },
    {
     "cell_type": "markdown",
     "metadata": {},
     "source": [
      "The value of machine learning is that the software establishes the relationships between the input and output data. This software driven method of defining relationships makes it possible to model complex reltionships without having to write specific code to define each relationship. Instead, the software models the relationships and evolves as the relationships change.\n"
     ]
    },
    {
     "cell_type": "markdown",
     "metadata": {},
     "source": [
      "Linear relationships, for example, will take the form:\n",
      "\n",
      "    y = mX + b\n",
      "\n",
      "Rather than explicitly declare m (the slope) and b (the intercept or bias), the data will be fit create the best possible formula.\n"
     ]
    },
    {
     "cell_type": "markdown",
     "metadata": {},
     "source": [
      "The code below provides a very basic example of using data to create a formula rather than directly writing the formula.\n",
      "\n",
      "Note that no relationships are explicitly stated. The software learns the relationships from the data."
     ]
    },
    {
     "cell_type": "heading",
     "level": 5,
     "metadata": {},
     "source": [
      "Administrative Code"
     ]
    },
    {
     "cell_type": "code",
     "collapsed": false,
     "input": [
      "import numpy as np\n",
      "from sklearn.linear_model import LinearRegression"
     ],
     "language": "python",
     "metadata": {},
     "outputs": [],
     "prompt_number": 1
    },
    {
     "cell_type": "heading",
     "level": 5,
     "metadata": {},
     "source": [
      "Create the Training Data"
     ]
    },
    {
     "cell_type": "code",
     "collapsed": false,
     "input": [
      "F = [32, 212]\n",
      "C = [0, 100]\n",
      "    \n",
      "F = np.array(F).reshape((len(F),1))\n",
      "C = np.array(C).reshape((len(C),1))"
     ],
     "language": "python",
     "metadata": {},
     "outputs": [],
     "prompt_number": 2
    },
    {
     "cell_type": "heading",
     "level": 3,
     "metadata": {},
     "source": [
      "Create Model to Convert Celcius to Farenheit"
     ]
    },
    {
     "cell_type": "code",
     "collapsed": false,
     "input": [
      "F_to_C = LinearRegression()"
     ],
     "language": "python",
     "metadata": {},
     "outputs": [],
     "prompt_number": 3
    },
    {
     "cell_type": "code",
     "collapsed": false,
     "input": [
      "F_to_C.fit(F, C)"
     ],
     "language": "python",
     "metadata": {},
     "outputs": [
      {
       "output_type": "pyout",
       "prompt_number": 4,
       "text": [
        "LinearRegression(copy_X=True, fit_intercept=True, normalize=False)"
       ]
      }
     ],
     "prompt_number": 4
    },
    {
     "cell_type": "heading",
     "level": 5,
     "metadata": {},
     "source": [
      "Check to see the Celcius equivalent of a nice day"
     ]
    },
    {
     "cell_type": "code",
     "collapsed": false,
     "input": [
      "F_to_C.predict(np.array([[70],[75],[80]]))"
     ],
     "language": "python",
     "metadata": {},
     "outputs": [
      {
       "output_type": "pyout",
       "prompt_number": 5,
       "text": [
        "array([[ 21.11111111],\n",
        "       [ 23.88888889],\n",
        "       [ 26.66666667]])"
       ]
      }
     ],
     "prompt_number": 5
    },
    {
     "cell_type": "heading",
     "level": 5,
     "metadata": {},
     "source": [
      "The data determines the forumla"
     ]
    },
    {
     "cell_type": "code",
     "collapsed": false,
     "input": [
      "print F_to_C.coef_\n",
      "print F_to_C.intercept_"
     ],
     "language": "python",
     "metadata": {},
     "outputs": [
      {
       "output_type": "stream",
       "stream": "stdout",
       "text": [
        "[[ 0.55555556]]\n",
        "[-17.77777778]\n"
       ]
      }
     ],
     "prompt_number": 6
    },
    {
     "cell_type": "raw",
     "metadata": {},
     "source": [
      "y = mX + b\n",
      "Celcius = m*Farenheit + b\n",
      "Celcius = 0.5556*Farenheit + -17.778\n",
      "\n",
      "C = (5/9)*F - 17.778\n",
      "C = (5/9)*F - (5/9)*32"
     ]
    },
    {
     "cell_type": "heading",
     "level": 3,
     "metadata": {},
     "source": [
      "Create Model to Convert Farenheit to Celcius"
     ]
    },
    {
     "cell_type": "code",
     "collapsed": false,
     "input": [
      "C_to_F = LinearRegression()\n",
      "C_to_F.fit(C, F)"
     ],
     "language": "python",
     "metadata": {},
     "outputs": [
      {
       "output_type": "pyout",
       "prompt_number": 7,
       "text": [
        "LinearRegression(copy_X=True, fit_intercept=True, normalize=False)"
       ]
      }
     ],
     "prompt_number": 7
    },
    {
     "cell_type": "heading",
     "level": 5,
     "metadata": {},
     "source": [
      "What is the farenheit equivalent of celcius temperatures?"
     ]
    },
    {
     "cell_type": "code",
     "collapsed": false,
     "input": [
      "C_to_F.predict(np.array([[25], [35]]))"
     ],
     "language": "python",
     "metadata": {},
     "outputs": [
      {
       "output_type": "pyout",
       "prompt_number": 8,
       "text": [
        "array([[ 77.],\n",
        "       [ 95.]])"
       ]
      }
     ],
     "prompt_number": 8
    },
    {
     "cell_type": "heading",
     "level": 5,
     "metadata": {},
     "source": [
      "The data determines the formula"
     ]
    },
    {
     "cell_type": "code",
     "collapsed": false,
     "input": [
      "print C_to_F.coef_\n",
      "print C_to_F.intercept_"
     ],
     "language": "python",
     "metadata": {},
     "outputs": [
      {
       "output_type": "stream",
       "stream": "stdout",
       "text": [
        "[[ 1.8]]\n",
        "[ 32.]\n"
       ]
      }
     ],
     "prompt_number": 9
    },
    {
     "cell_type": "raw",
     "metadata": {},
     "source": [
      "y = mX + b\n",
      "Farenheit = m*Celcius + b\n",
      "Farenheit = 1.8*Celcius + 32\n",
      "\n",
      "F = (9/5)*C + 32"
     ]
    }
   ],
   "metadata": {}
  }
 ]
}