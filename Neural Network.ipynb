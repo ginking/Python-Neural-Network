{
 "metadata": {
  "name": "Neural Network"
 },
 "nbformat": 3,
 "nbformat_minor": 0,
 "worksheets": [
  {
   "cells": [
    {
     "cell_type": "code",
     "collapsed": false,
     "input": [
      "import os, pandas as pd, numpy as np"
     ],
     "language": "python",
     "metadata": {},
     "outputs": [],
     "prompt_number": 2
    },
    {
     "cell_type": "markdown",
     "metadata": {},
     "source": [
      "### NN Architecture"
     ]
    },
    {
     "cell_type": "code",
     "collapsed": false,
     "input": [
      "# NN Architecture\n",
      "input_units = 2\n",
      "hidden_layers = 1\n",
      "hidden_units = 2\n",
      "output_units = 1"
     ],
     "language": "python",
     "metadata": {},
     "outputs": [],
     "prompt_number": 267
    },
    {
     "cell_type": "markdown",
     "metadata": {},
     "source": [
      "###Training Data"
     ]
    },
    {
     "cell_type": "code",
     "collapsed": false,
     "input": [
      "X_train = [[1, 1],[1, 0], [0, 1], [0, 0]]\n",
      "y_train = [0, 1, 1, 0]"
     ],
     "language": "python",
     "metadata": {},
     "outputs": [],
     "prompt_number": 268
    },
    {
     "cell_type": "code",
     "collapsed": false,
     "input": [
      "print X_train\n",
      "print y_train"
     ],
     "language": "python",
     "metadata": {},
     "outputs": [
      {
       "output_type": "stream",
       "stream": "stdout",
       "text": [
        "[[1, 1], [1, 0], [0, 1], [0, 0]]\n",
        "[0, 1, 1, 0]\n"
       ]
      }
     ],
     "prompt_number": 269
    },
    {
     "cell_type": "markdown",
     "metadata": {},
     "source": [
      "###Random Initial Weights"
     ]
    },
    {
     "cell_type": "code",
     "collapsed": false,
     "input": [
      "def random_weights(in_num, out_num, small_init=.1):\n",
      "    W = np.random.randn(out_num, in_num+1) * 2 * small_init - small_init\n",
      "    return W"
     ],
     "language": "python",
     "metadata": {},
     "outputs": [],
     "prompt_number": 270
    },
    {
     "cell_type": "code",
     "collapsed": false,
     "input": [
      "Theta1 = np.array(random_weights(2, 2, .2))\n",
      "Theta2 = np.array(random_weights(2,1,.2))"
     ],
     "language": "python",
     "metadata": {},
     "outputs": [],
     "prompt_number": 410
    },
    {
     "cell_type": "code",
     "collapsed": false,
     "input": [
      "Theta1 = np.array([[10, 20, 30], [1, 2, 3]])\n",
      "Theta2 = np.array([1, 2, 3])\n",
      "print Theta1\n",
      "print Theta2"
     ],
     "language": "python",
     "metadata": {},
     "outputs": [
      {
       "output_type": "stream",
       "stream": "stdout",
       "text": [
        "[[10 20 30]\n",
        " [ 1  2  3]]\n",
        "[1 2 3]\n"
       ]
      }
     ],
     "prompt_number": 414
    },
    {
     "cell_type": "code",
     "collapsed": false,
     "input": [
      "def sq_err(pred, act):\n",
      "    return (act - pred)**2"
     ],
     "language": "python",
     "metadata": {},
     "outputs": [],
     "prompt_number": 454
    },
    {
     "cell_type": "markdown",
     "metadata": {},
     "source": [
      "###Forward Propogation\n",
      "Have 2 input units + 1 bias unit\n",
      "Have 2 hidden units\n",
      "3x2\n",
      "weights are 2X3\n",
      "want 2 x 1\n",
      "Theta.T * x"
     ]
    },
    {
     "cell_type": "code",
     "collapsed": false,
     "input": [
      "def forward_prop(X, y):\n",
      "    predicted_y = []\n",
      "    for m in range(len(X)):\n",
      "        a1 = [1]\n",
      "        a1.extend(X[m])\n",
      "        a1 = np.array(a1)\n",
      "\n",
      "        z2 = Theta1.dot(a1)\n",
      "        a2 = [1]\n",
      "        a2.extend(np.tanh(z2).tolist())\n",
      "\n",
      "        z3 = Theta2.dot(a2)\n",
      "        a3 = np.tanh(z3).tolist()\n",
      "        predicted_y.append(a3)\n",
      "        \n",
      "        # Now back prop\n",
      "        delta3 = sq_err(a3, y[m])\n",
      "        delta2 = Theta2[:][1:] * delta\n",
      "        delta1 = Theta1[:][1:].dot(delta2)\n",
      "    \n",
      "    print 'Predictions'\n",
      "    print predicted_y\n",
      "    print 'Actual'\n",
      "    print y_train\n",
      "    return predicted_y\n",
      "    \n",
      "        "
     ],
     "language": "python",
     "metadata": {},
     "outputs": [],
     "prompt_number": 460
    },
    {
     "cell_type": "code",
     "collapsed": false,
     "input": [
      "predicted_y = forward_prop(X_train, y_train)"
     ],
     "language": "python",
     "metadata": {},
     "outputs": [
      {
       "output_type": "stream",
       "stream": "stdout",
       "text": [
        "0.999987710745\n",
        "0\n",
        "0.999975421641\n",
        "\n",
        "0.999987341576\n",
        "1\n",
        "1.60235686876e-10\n",
        "\n",
        "0.999987662101\n",
        "1\n",
        "1.52223759789e-10\n",
        "\n",
        "0.999948629343\n",
        "0\n",
        "0.999897261325\n",
        "\n",
        "Predictions\n",
        "[0.9999877107447466, 0.9999873415764459, 0.9999876621006736, 0.9999486293430176]\n",
        "Actual\n",
        "[0, 1, 1, 0]\n"
       ]
      }
     ],
     "prompt_number": 461
    },
    {
     "cell_type": "code",
     "collapsed": false,
     "input": [
      "sq_err(np.array(predicted_y), np.array(y))"
     ],
     "language": "python",
     "metadata": {},
     "outputs": [
      {
       "output_type": "pyout",
       "prompt_number": 459,
       "text": [
        "array([ 0.99997542,  0.        ,  0.        ,  0.99989726])"
       ]
      }
     ],
     "prompt_number": 459
    },
    {
     "cell_type": "code",
     "collapsed": false,
     "input": [
      "def back_prop(predicted_y):\n",
      "    for m in range(len(predicted_y)):\n",
      "        delta1\n",
      "        a1.extend(X[m])\n",
      "        a1 = np.array(a1)\n",
      "\n",
      "        z2 = Theta1.dot(a1)\n",
      "        a2 = [1]\n",
      "        a2.extend(np.tanh(z2).tolist())\n",
      "\n",
      "        z3 = Theta2.dot(a2)\n",
      "        a3 = np.tanh(z3).tolist()\n",
      "        predicted_y.append(a3)\n",
      "    \n",
      "    print 'Predictions'\n",
      "    print predicted_y\n",
      "    print 'Actual'\n",
      "    print y_train\n",
      "    return predicted_y\n",
      "    \n",
      "        "
     ],
     "language": "python",
     "metadata": {},
     "outputs": [],
     "prompt_number": 455
    }
   ],
   "metadata": {}
  }
 ]
}